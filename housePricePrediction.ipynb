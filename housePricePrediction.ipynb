{
 "cells": [
  {
   "cell_type": "markdown",
   "metadata": {},
   "source": [
    "Dependencies"
   ]
  },
  {
   "cell_type": "code",
   "execution_count": 50,
   "metadata": {},
   "outputs": [],
   "source": [
    "import pandas as pd\n",
    "import numpy as np\n",
    "import datetime\n",
    "from sklearn.preprocessing import LabelEncoder\n",
    "import torch\n",
    "import torch.nn as nn\n",
    "import torch.nn.functional as F\n",
    "import matplotlib.pyplot as plt\n"
   ]
  },
  {
   "cell_type": "markdown",
   "metadata": {},
   "source": [
    "Dataset"
   ]
  },
  {
   "cell_type": "code",
   "execution_count": 2,
   "metadata": {},
   "outputs": [],
   "source": [
    "df=pd.read_csv('houseprice.csv',usecols=[\"SalePrice\", \"MSSubClass\", \"MSZoning\", \"LotFrontage\", \"LotArea\",\n",
    "                                         \"Street\", \"YearBuilt\", \"LotShape\", \"1stFlrSF\", \"2ndFlrSF\"]).dropna()"
   ]
  },
  {
   "cell_type": "code",
   "execution_count": 3,
   "metadata": {},
   "outputs": [
    {
     "data": {
      "text/plain": [
       "(1201, 10)"
      ]
     },
     "execution_count": 3,
     "metadata": {},
     "output_type": "execute_result"
    }
   ],
   "source": [
    "df.shape"
   ]
  },
  {
   "cell_type": "code",
   "execution_count": 4,
   "metadata": {},
   "outputs": [
    {
     "data": {
      "text/html": [
       "<div>\n",
       "<style scoped>\n",
       "    .dataframe tbody tr th:only-of-type {\n",
       "        vertical-align: middle;\n",
       "    }\n",
       "\n",
       "    .dataframe tbody tr th {\n",
       "        vertical-align: top;\n",
       "    }\n",
       "\n",
       "    .dataframe thead th {\n",
       "        text-align: right;\n",
       "    }\n",
       "</style>\n",
       "<table border=\"1\" class=\"dataframe\">\n",
       "  <thead>\n",
       "    <tr style=\"text-align: right;\">\n",
       "      <th></th>\n",
       "      <th>MSSubClass</th>\n",
       "      <th>MSZoning</th>\n",
       "      <th>LotFrontage</th>\n",
       "      <th>LotArea</th>\n",
       "      <th>Street</th>\n",
       "      <th>LotShape</th>\n",
       "      <th>YearBuilt</th>\n",
       "      <th>1stFlrSF</th>\n",
       "      <th>2ndFlrSF</th>\n",
       "      <th>SalePrice</th>\n",
       "    </tr>\n",
       "  </thead>\n",
       "  <tbody>\n",
       "    <tr>\n",
       "      <th>0</th>\n",
       "      <td>60</td>\n",
       "      <td>RL</td>\n",
       "      <td>65.0</td>\n",
       "      <td>8450</td>\n",
       "      <td>Pave</td>\n",
       "      <td>Reg</td>\n",
       "      <td>2003</td>\n",
       "      <td>856</td>\n",
       "      <td>854</td>\n",
       "      <td>208500</td>\n",
       "    </tr>\n",
       "    <tr>\n",
       "      <th>1</th>\n",
       "      <td>20</td>\n",
       "      <td>RL</td>\n",
       "      <td>80.0</td>\n",
       "      <td>9600</td>\n",
       "      <td>Pave</td>\n",
       "      <td>Reg</td>\n",
       "      <td>1976</td>\n",
       "      <td>1262</td>\n",
       "      <td>0</td>\n",
       "      <td>181500</td>\n",
       "    </tr>\n",
       "    <tr>\n",
       "      <th>2</th>\n",
       "      <td>60</td>\n",
       "      <td>RL</td>\n",
       "      <td>68.0</td>\n",
       "      <td>11250</td>\n",
       "      <td>Pave</td>\n",
       "      <td>IR1</td>\n",
       "      <td>2001</td>\n",
       "      <td>920</td>\n",
       "      <td>866</td>\n",
       "      <td>223500</td>\n",
       "    </tr>\n",
       "    <tr>\n",
       "      <th>3</th>\n",
       "      <td>70</td>\n",
       "      <td>RL</td>\n",
       "      <td>60.0</td>\n",
       "      <td>9550</td>\n",
       "      <td>Pave</td>\n",
       "      <td>IR1</td>\n",
       "      <td>1915</td>\n",
       "      <td>961</td>\n",
       "      <td>756</td>\n",
       "      <td>140000</td>\n",
       "    </tr>\n",
       "    <tr>\n",
       "      <th>4</th>\n",
       "      <td>60</td>\n",
       "      <td>RL</td>\n",
       "      <td>84.0</td>\n",
       "      <td>14260</td>\n",
       "      <td>Pave</td>\n",
       "      <td>IR1</td>\n",
       "      <td>2000</td>\n",
       "      <td>1145</td>\n",
       "      <td>1053</td>\n",
       "      <td>250000</td>\n",
       "    </tr>\n",
       "  </tbody>\n",
       "</table>\n",
       "</div>"
      ],
      "text/plain": [
       "   MSSubClass MSZoning  LotFrontage  LotArea Street LotShape  YearBuilt  \\\n",
       "0          60       RL         65.0     8450   Pave      Reg       2003   \n",
       "1          20       RL         80.0     9600   Pave      Reg       1976   \n",
       "2          60       RL         68.0    11250   Pave      IR1       2001   \n",
       "3          70       RL         60.0     9550   Pave      IR1       1915   \n",
       "4          60       RL         84.0    14260   Pave      IR1       2000   \n",
       "\n",
       "   1stFlrSF  2ndFlrSF  SalePrice  \n",
       "0       856       854     208500  \n",
       "1      1262         0     181500  \n",
       "2       920       866     223500  \n",
       "3       961       756     140000  \n",
       "4      1145      1053     250000  "
      ]
     },
     "execution_count": 4,
     "metadata": {},
     "output_type": "execute_result"
    }
   ],
   "source": [
    "df.head()"
   ]
  },
  {
   "cell_type": "code",
   "execution_count": 5,
   "metadata": {},
   "outputs": [
    {
     "name": "stdout",
     "output_type": "stream",
     "text": [
      "<class 'pandas.core.frame.DataFrame'>\n",
      "Index: 1201 entries, 0 to 1459\n",
      "Data columns (total 10 columns):\n",
      " #   Column       Non-Null Count  Dtype  \n",
      "---  ------       --------------  -----  \n",
      " 0   MSSubClass   1201 non-null   int64  \n",
      " 1   MSZoning     1201 non-null   object \n",
      " 2   LotFrontage  1201 non-null   float64\n",
      " 3   LotArea      1201 non-null   int64  \n",
      " 4   Street       1201 non-null   object \n",
      " 5   LotShape     1201 non-null   object \n",
      " 6   YearBuilt    1201 non-null   int64  \n",
      " 7   1stFlrSF     1201 non-null   int64  \n",
      " 8   2ndFlrSF     1201 non-null   int64  \n",
      " 9   SalePrice    1201 non-null   int64  \n",
      "dtypes: float64(1), int64(6), object(3)\n",
      "memory usage: 103.2+ KB\n"
     ]
    }
   ],
   "source": [
    "df.info()"
   ]
  },
  {
   "cell_type": "code",
   "execution_count": 6,
   "metadata": {},
   "outputs": [
    {
     "name": "stdout",
     "output_type": "stream",
     "text": [
      "Column name MSSubClass and unique values are 15\n",
      "Column name MSZoning and unique values are 5\n",
      "Column name LotFrontage and unique values are 110\n",
      "Column name LotArea and unique values are 869\n",
      "Column name Street and unique values are 2\n",
      "Column name LotShape and unique values are 4\n",
      "Column name YearBuilt and unique values are 112\n",
      "Column name 1stFlrSF and unique values are 678\n",
      "Column name 2ndFlrSF and unique values are 368\n",
      "Column name SalePrice and unique values are 597\n"
     ]
    }
   ],
   "source": [
    "for i in df.columns:\n",
    "    print(\"Column name {} and unique values are {}\".format(i,len(df[i].unique())))\n"
   ]
  },
  {
   "cell_type": "code",
   "execution_count": 7,
   "metadata": {},
   "outputs": [
    {
     "data": {
      "text/plain": [
       "2025"
      ]
     },
     "execution_count": 7,
     "metadata": {},
     "output_type": "execute_result"
    }
   ],
   "source": [
    "datetime.datetime.now().year"
   ]
  },
  {
   "cell_type": "code",
   "execution_count": 8,
   "metadata": {},
   "outputs": [],
   "source": [
    "df['Total Years']=datetime.datetime.now().year-df['YearBuilt']"
   ]
  },
  {
   "cell_type": "code",
   "execution_count": 9,
   "metadata": {},
   "outputs": [
    {
     "data": {
      "text/plain": [
       "Index(['MSSubClass', 'MSZoning', 'LotFrontage', 'LotArea', 'Street',\n",
       "       'LotShape', 'YearBuilt', '1stFlrSF', '2ndFlrSF', 'SalePrice',\n",
       "       'Total Years'],\n",
       "      dtype='object')"
      ]
     },
     "execution_count": 9,
     "metadata": {},
     "output_type": "execute_result"
    }
   ],
   "source": [
    "df.columns"
   ]
  },
  {
   "cell_type": "code",
   "execution_count": 10,
   "metadata": {},
   "outputs": [],
   "source": [
    "#Creating categorical features\n",
    "cat_features=[\"MSSubClass\", \"MSZoning\", \"Street\", \"LotShape\"]\n",
    "out_feature=\"SalePrice\""
   ]
  },
  {
   "cell_type": "code",
   "execution_count": 11,
   "metadata": {},
   "outputs": [
    {
     "data": {
      "text/plain": [
       "array([ 60,  20,  70,  50, 190,  45,  90, 120,  30,  80, 160,  75, 180,\n",
       "        40,  85])"
      ]
     },
     "execution_count": 11,
     "metadata": {},
     "output_type": "execute_result"
    }
   ],
   "source": [
    "df[\"MSSubClass\"].unique()"
   ]
  },
  {
   "cell_type": "markdown",
   "metadata": {},
   "source": [
    "LabelEncoder helps to map each unique category to a distinct integer, enabling the model to process these categorical features effectively."
   ]
  },
  {
   "cell_type": "code",
   "execution_count": 12,
   "metadata": {},
   "outputs": [],
   "source": [
    "from sklearn.preprocessing import LabelEncoder\n",
    "lbl_encoders={}\n",
    "for feature in cat_features:\n",
    "    lbl_encoders[feature]=LabelEncoder()\n",
    "    df[feature]=lbl_encoders[feature].fit_transform(df[feature])\n"
   ]
  },
  {
   "cell_type": "code",
   "execution_count": 13,
   "metadata": {},
   "outputs": [
    {
     "data": {
      "text/html": [
       "<div>\n",
       "<style scoped>\n",
       "    .dataframe tbody tr th:only-of-type {\n",
       "        vertical-align: middle;\n",
       "    }\n",
       "\n",
       "    .dataframe tbody tr th {\n",
       "        vertical-align: top;\n",
       "    }\n",
       "\n",
       "    .dataframe thead th {\n",
       "        text-align: right;\n",
       "    }\n",
       "</style>\n",
       "<table border=\"1\" class=\"dataframe\">\n",
       "  <thead>\n",
       "    <tr style=\"text-align: right;\">\n",
       "      <th></th>\n",
       "      <th>MSSubClass</th>\n",
       "      <th>MSZoning</th>\n",
       "      <th>LotFrontage</th>\n",
       "      <th>LotArea</th>\n",
       "      <th>Street</th>\n",
       "      <th>LotShape</th>\n",
       "      <th>YearBuilt</th>\n",
       "      <th>1stFlrSF</th>\n",
       "      <th>2ndFlrSF</th>\n",
       "      <th>SalePrice</th>\n",
       "      <th>Total Years</th>\n",
       "    </tr>\n",
       "  </thead>\n",
       "  <tbody>\n",
       "    <tr>\n",
       "      <th>0</th>\n",
       "      <td>5</td>\n",
       "      <td>3</td>\n",
       "      <td>65.0</td>\n",
       "      <td>8450</td>\n",
       "      <td>1</td>\n",
       "      <td>3</td>\n",
       "      <td>2003</td>\n",
       "      <td>856</td>\n",
       "      <td>854</td>\n",
       "      <td>208500</td>\n",
       "      <td>22</td>\n",
       "    </tr>\n",
       "    <tr>\n",
       "      <th>1</th>\n",
       "      <td>0</td>\n",
       "      <td>3</td>\n",
       "      <td>80.0</td>\n",
       "      <td>9600</td>\n",
       "      <td>1</td>\n",
       "      <td>3</td>\n",
       "      <td>1976</td>\n",
       "      <td>1262</td>\n",
       "      <td>0</td>\n",
       "      <td>181500</td>\n",
       "      <td>49</td>\n",
       "    </tr>\n",
       "    <tr>\n",
       "      <th>2</th>\n",
       "      <td>5</td>\n",
       "      <td>3</td>\n",
       "      <td>68.0</td>\n",
       "      <td>11250</td>\n",
       "      <td>1</td>\n",
       "      <td>0</td>\n",
       "      <td>2001</td>\n",
       "      <td>920</td>\n",
       "      <td>866</td>\n",
       "      <td>223500</td>\n",
       "      <td>24</td>\n",
       "    </tr>\n",
       "    <tr>\n",
       "      <th>3</th>\n",
       "      <td>6</td>\n",
       "      <td>3</td>\n",
       "      <td>60.0</td>\n",
       "      <td>9550</td>\n",
       "      <td>1</td>\n",
       "      <td>0</td>\n",
       "      <td>1915</td>\n",
       "      <td>961</td>\n",
       "      <td>756</td>\n",
       "      <td>140000</td>\n",
       "      <td>110</td>\n",
       "    </tr>\n",
       "    <tr>\n",
       "      <th>4</th>\n",
       "      <td>5</td>\n",
       "      <td>3</td>\n",
       "      <td>84.0</td>\n",
       "      <td>14260</td>\n",
       "      <td>1</td>\n",
       "      <td>0</td>\n",
       "      <td>2000</td>\n",
       "      <td>1145</td>\n",
       "      <td>1053</td>\n",
       "      <td>250000</td>\n",
       "      <td>25</td>\n",
       "    </tr>\n",
       "    <tr>\n",
       "      <th>...</th>\n",
       "      <td>...</td>\n",
       "      <td>...</td>\n",
       "      <td>...</td>\n",
       "      <td>...</td>\n",
       "      <td>...</td>\n",
       "      <td>...</td>\n",
       "      <td>...</td>\n",
       "      <td>...</td>\n",
       "      <td>...</td>\n",
       "      <td>...</td>\n",
       "      <td>...</td>\n",
       "    </tr>\n",
       "    <tr>\n",
       "      <th>1455</th>\n",
       "      <td>5</td>\n",
       "      <td>3</td>\n",
       "      <td>62.0</td>\n",
       "      <td>7917</td>\n",
       "      <td>1</td>\n",
       "      <td>3</td>\n",
       "      <td>1999</td>\n",
       "      <td>953</td>\n",
       "      <td>694</td>\n",
       "      <td>175000</td>\n",
       "      <td>26</td>\n",
       "    </tr>\n",
       "    <tr>\n",
       "      <th>1456</th>\n",
       "      <td>0</td>\n",
       "      <td>3</td>\n",
       "      <td>85.0</td>\n",
       "      <td>13175</td>\n",
       "      <td>1</td>\n",
       "      <td>3</td>\n",
       "      <td>1978</td>\n",
       "      <td>2073</td>\n",
       "      <td>0</td>\n",
       "      <td>210000</td>\n",
       "      <td>47</td>\n",
       "    </tr>\n",
       "    <tr>\n",
       "      <th>1457</th>\n",
       "      <td>6</td>\n",
       "      <td>3</td>\n",
       "      <td>66.0</td>\n",
       "      <td>9042</td>\n",
       "      <td>1</td>\n",
       "      <td>3</td>\n",
       "      <td>1941</td>\n",
       "      <td>1188</td>\n",
       "      <td>1152</td>\n",
       "      <td>266500</td>\n",
       "      <td>84</td>\n",
       "    </tr>\n",
       "    <tr>\n",
       "      <th>1458</th>\n",
       "      <td>0</td>\n",
       "      <td>3</td>\n",
       "      <td>68.0</td>\n",
       "      <td>9717</td>\n",
       "      <td>1</td>\n",
       "      <td>3</td>\n",
       "      <td>1950</td>\n",
       "      <td>1078</td>\n",
       "      <td>0</td>\n",
       "      <td>142125</td>\n",
       "      <td>75</td>\n",
       "    </tr>\n",
       "    <tr>\n",
       "      <th>1459</th>\n",
       "      <td>0</td>\n",
       "      <td>3</td>\n",
       "      <td>75.0</td>\n",
       "      <td>9937</td>\n",
       "      <td>1</td>\n",
       "      <td>3</td>\n",
       "      <td>1965</td>\n",
       "      <td>1256</td>\n",
       "      <td>0</td>\n",
       "      <td>147500</td>\n",
       "      <td>60</td>\n",
       "    </tr>\n",
       "  </tbody>\n",
       "</table>\n",
       "<p>1201 rows × 11 columns</p>\n",
       "</div>"
      ],
      "text/plain": [
       "      MSSubClass  MSZoning  LotFrontage  LotArea  Street  LotShape  YearBuilt  \\\n",
       "0              5         3         65.0     8450       1         3       2003   \n",
       "1              0         3         80.0     9600       1         3       1976   \n",
       "2              5         3         68.0    11250       1         0       2001   \n",
       "3              6         3         60.0     9550       1         0       1915   \n",
       "4              5         3         84.0    14260       1         0       2000   \n",
       "...          ...       ...          ...      ...     ...       ...        ...   \n",
       "1455           5         3         62.0     7917       1         3       1999   \n",
       "1456           0         3         85.0    13175       1         3       1978   \n",
       "1457           6         3         66.0     9042       1         3       1941   \n",
       "1458           0         3         68.0     9717       1         3       1950   \n",
       "1459           0         3         75.0     9937       1         3       1965   \n",
       "\n",
       "      1stFlrSF  2ndFlrSF  SalePrice  Total Years  \n",
       "0          856       854     208500           22  \n",
       "1         1262         0     181500           49  \n",
       "2          920       866     223500           24  \n",
       "3          961       756     140000          110  \n",
       "4         1145      1053     250000           25  \n",
       "...        ...       ...        ...          ...  \n",
       "1455       953       694     175000           26  \n",
       "1456      2073         0     210000           47  \n",
       "1457      1188      1152     266500           84  \n",
       "1458      1078         0     142125           75  \n",
       "1459      1256         0     147500           60  \n",
       "\n",
       "[1201 rows x 11 columns]"
      ]
     },
     "execution_count": 13,
     "metadata": {},
     "output_type": "execute_result"
    }
   ],
   "source": [
    "df"
   ]
  },
  {
   "cell_type": "markdown",
   "metadata": {},
   "source": [
    "After label encoding, we convert all categorical features to NumPy arrays and then to tensors, which are subsequently used as inputs for embedding layers."
   ]
  },
  {
   "cell_type": "code",
   "execution_count": 14,
   "metadata": {},
   "outputs": [
    {
     "data": {
      "text/plain": [
       "array([[5, 3, 1, 3],\n",
       "       [0, 3, 1, 3],\n",
       "       [5, 3, 1, 0],\n",
       "       ...,\n",
       "       [6, 3, 1, 3],\n",
       "       [0, 3, 1, 3],\n",
       "       [0, 3, 1, 3]], shape=(1201, 4))"
      ]
     },
     "execution_count": 14,
     "metadata": {},
     "output_type": "execute_result"
    }
   ],
   "source": [
    "### # Combine the selected categorical features into a 2D NumPy array, where each row represents a record, \n",
    "# and each column corresponds to one of the selected features.\n",
    "cat_features=np.stack([df['MSSubClass'],df['MSZoning'],df['Street'],df['LotShape']],1)\n",
    "cat_features"
   ]
  },
  {
   "cell_type": "code",
   "execution_count": 15,
   "metadata": {},
   "outputs": [
    {
     "data": {
      "text/plain": [
       "tensor([[5, 3, 1, 3],\n",
       "        [0, 3, 1, 3],\n",
       "        [5, 3, 1, 0],\n",
       "        ...,\n",
       "        [6, 3, 1, 3],\n",
       "        [0, 3, 1, 3],\n",
       "        [0, 3, 1, 3]])"
      ]
     },
     "execution_count": 15,
     "metadata": {},
     "output_type": "execute_result"
    }
   ],
   "source": [
    "import torch\n",
    "cat_features=torch.tensor(cat_features,dtype=torch.int64)\n",
    "cat_features\n"
   ]
  },
  {
   "cell_type": "code",
   "execution_count": 16,
   "metadata": {},
   "outputs": [],
   "source": [
    "# take continuous variable\n",
    "cont_features=[]\n",
    "for i in df.columns:\n",
    "    if i in [\"MSSubClass\", \"MSZoning\", \"Street\", \"LotShape\",\"SalePrice\"]:\n",
    "        pass\n",
    "    else:\n",
    "        cont_features.append(i)\n"
   ]
  },
  {
   "cell_type": "code",
   "execution_count": 17,
   "metadata": {},
   "outputs": [
    {
     "data": {
      "text/plain": [
       "['LotFrontage', 'LotArea', 'YearBuilt', '1stFlrSF', '2ndFlrSF', 'Total Years']"
      ]
     },
     "execution_count": 17,
     "metadata": {},
     "output_type": "execute_result"
    }
   ],
   "source": [
    "cont_features"
   ]
  },
  {
   "cell_type": "code",
   "execution_count": 18,
   "metadata": {},
   "outputs": [
    {
     "data": {
      "text/plain": [
       "tensor([[   65.,  8450.,  2003.,   856.,   854.,    22.],\n",
       "        [   80.,  9600.,  1976.,  1262.,     0.,    49.],\n",
       "        [   68., 11250.,  2001.,   920.,   866.,    24.],\n",
       "        ...,\n",
       "        [   66.,  9042.,  1941.,  1188.,  1152.,    84.],\n",
       "        [   68.,  9717.,  1950.,  1078.,     0.,    75.],\n",
       "        [   75.,  9937.,  1965.,  1256.,     0.,    60.]])"
      ]
     },
     "execution_count": 18,
     "metadata": {},
     "output_type": "execute_result"
    }
   ],
   "source": [
    "# Stacking continuous variable to a tensor\n",
    "cont_values=np.stack([df[i].values for i in cont_features],axis=1)\n",
    "cont_values=torch.tensor(cont_values,dtype=torch.float) \n",
    "cont_values\n"
   ]
  },
  {
   "cell_type": "code",
   "execution_count": 19,
   "metadata": {},
   "outputs": [
    {
     "data": {
      "text/plain": [
       "torch.float32"
      ]
     },
     "execution_count": 19,
     "metadata": {},
     "output_type": "execute_result"
    }
   ],
   "source": [
    "cont_values.dtype"
   ]
  },
  {
   "cell_type": "code",
   "execution_count": 20,
   "metadata": {},
   "outputs": [
    {
     "data": {
      "text/plain": [
       "tensor([[208500.],\n",
       "        [181500.],\n",
       "        [223500.],\n",
       "        ...,\n",
       "        [266500.],\n",
       "        [142125.],\n",
       "        [147500.]])"
      ]
     },
     "execution_count": 20,
     "metadata": {},
     "output_type": "execute_result"
    }
   ],
   "source": [
    "# Dependent Feature \n",
    "# Convert the 'SalePrice' column to a PyTorch tensor and reshape it into a 2D tensor\n",
    "# with one column (shape: [n_samples, 1]) to be compatible with machine learning models.\n",
    "y=torch.tensor(df['SalePrice'].values,dtype=torch.float).reshape(-1,1)\n",
    "y\n"
   ]
  },
  {
   "cell_type": "code",
   "execution_count": 21,
   "metadata": {},
   "outputs": [
    {
     "name": "stdout",
     "output_type": "stream",
     "text": [
      "<class 'pandas.core.frame.DataFrame'>\n",
      "Index: 1201 entries, 0 to 1459\n",
      "Data columns (total 11 columns):\n",
      " #   Column       Non-Null Count  Dtype  \n",
      "---  ------       --------------  -----  \n",
      " 0   MSSubClass   1201 non-null   int64  \n",
      " 1   MSZoning     1201 non-null   int64  \n",
      " 2   LotFrontage  1201 non-null   float64\n",
      " 3   LotArea      1201 non-null   int64  \n",
      " 4   Street       1201 non-null   int64  \n",
      " 5   LotShape     1201 non-null   int64  \n",
      " 6   YearBuilt    1201 non-null   int64  \n",
      " 7   1stFlrSF     1201 non-null   int64  \n",
      " 8   2ndFlrSF     1201 non-null   int64  \n",
      " 9   SalePrice    1201 non-null   int64  \n",
      " 10  Total Years  1201 non-null   int64  \n",
      "dtypes: float64(1), int64(10)\n",
      "memory usage: 112.6 KB\n"
     ]
    }
   ],
   "source": [
    "df.info()\n"
   ]
  },
  {
   "cell_type": "code",
   "execution_count": 22,
   "metadata": {},
   "outputs": [
    {
     "data": {
      "text/plain": [
       "(torch.Size([1201, 4]), torch.Size([1201, 6]), torch.Size([1201, 1]))"
      ]
     },
     "execution_count": 22,
     "metadata": {},
     "output_type": "execute_result"
    }
   ],
   "source": [
    "cat_features.shape,cont_values.shape,y.shape\n"
   ]
  },
  {
   "cell_type": "markdown",
   "metadata": {},
   "source": [
    "Embeddings for categorical features"
   ]
  },
  {
   "cell_type": "code",
   "execution_count": 23,
   "metadata": {},
   "outputs": [
    {
     "data": {
      "text/plain": [
       "[15, 5, 2, 4]"
      ]
     },
     "execution_count": 23,
     "metadata": {},
     "output_type": "execute_result"
    }
   ],
   "source": [
    "# Embedding Size For Categorical columns \n",
    "# The embedding size for categorical columns: is important because it determines the number of inputs that should be passed to the embedding layers\n",
    "cat_dims=[len(df[col].unique()) for col in [\"MSSubClass\", \"MSZoning\", \"Street\", \"LotShape\"]]\n",
    "cat_dims"
   ]
  },
  {
   "cell_type": "code",
   "execution_count": 24,
   "metadata": {},
   "outputs": [],
   "source": [
    "#Output dimension should be set based on the input dimension (min(50,feature dimension//2))\n",
    "embedding_dim= [(x, min(50, (x + 1) // 2)) for x in cat_dims]\n"
   ]
  },
  {
   "cell_type": "code",
   "execution_count": 25,
   "metadata": {},
   "outputs": [
    {
     "data": {
      "text/plain": [
       "[(15, 8), (5, 3), (2, 1), (4, 2)]"
      ]
     },
     "execution_count": 25,
     "metadata": {},
     "output_type": "execute_result"
    }
   ],
   "source": [
    "embedding_dim"
   ]
  },
  {
   "cell_type": "code",
   "execution_count": 26,
   "metadata": {},
   "outputs": [
    {
     "data": {
      "text/plain": [
       "ModuleList(\n",
       "  (0): Embedding(15, 8)\n",
       "  (1): Embedding(5, 3)\n",
       "  (2): Embedding(2, 1)\n",
       "  (3): Embedding(4, 2)\n",
       ")"
      ]
     },
     "execution_count": 26,
     "metadata": {},
     "output_type": "execute_result"
    }
   ],
   "source": [
    "# Creates a list of embedding layers, one for each (input size, output size) pair in embedding_dim.\n",
    "embed_representation=nn.ModuleList([nn.Embedding(inp,out) for inp,out in embedding_dim])\n",
    "embed_representation\n"
   ]
  },
  {
   "cell_type": "code",
   "execution_count": 27,
   "metadata": {},
   "outputs": [],
   "source": [
    "#This ModuleList contains 4 embedding layers, each corresponding to a different categorical feature.\n",
    "#For each embedding layer, the first number represents the size of the vocabulary (the number of unique categories),\n",
    "# and the second number represents the embedding dimension (the number of dimensions for the embedding vector)."
   ]
  },
  {
   "cell_type": "code",
   "execution_count": 28,
   "metadata": {},
   "outputs": [
    {
     "data": {
      "text/plain": [
       "tensor([[5, 3, 1, 3],\n",
       "        [0, 3, 1, 3],\n",
       "        [5, 3, 1, 0],\n",
       "        ...,\n",
       "        [6, 3, 1, 3],\n",
       "        [0, 3, 1, 3],\n",
       "        [0, 3, 1, 3]])"
      ]
     },
     "execution_count": 28,
     "metadata": {},
     "output_type": "execute_result"
    }
   ],
   "source": [
    "cat_features\n"
   ]
  },
  {
   "cell_type": "code",
   "execution_count": 29,
   "metadata": {},
   "outputs": [
    {
     "data": {
      "text/plain": [
       "tensor([[5, 3, 1, 3],\n",
       "        [0, 3, 1, 3],\n",
       "        [5, 3, 1, 0],\n",
       "        [6, 3, 1, 0]])"
      ]
     },
     "execution_count": 29,
     "metadata": {},
     "output_type": "execute_result"
    }
   ],
   "source": [
    "cat_features4=cat_features[:4]\n",
    "cat_features4\n"
   ]
  },
  {
   "cell_type": "code",
   "execution_count": 30,
   "metadata": {},
   "outputs": [],
   "source": [
    "pd.set_option('display.max_rows', 500)\n",
    "embedding_val=[]\n",
    "for i,e in enumerate(embed_representation):\n",
    "    embedding_val.append(e(cat_features[:,i]))\n"
   ]
  },
  {
   "cell_type": "code",
   "execution_count": 31,
   "metadata": {},
   "outputs": [
    {
     "data": {
      "text/plain": [
       "[tensor([[-0.7959, -0.1882,  0.3682,  ...,  1.2356,  0.5884, -1.4428],\n",
       "         [ 1.4184,  1.4489,  0.4345,  ..., -0.3900, -0.1232, -1.2650],\n",
       "         [-0.7959, -0.1882,  0.3682,  ...,  1.2356,  0.5884, -1.4428],\n",
       "         ...,\n",
       "         [-1.4404,  0.4848,  0.6923,  ...,  0.0759,  0.4336,  1.0282],\n",
       "         [ 1.4184,  1.4489,  0.4345,  ..., -0.3900, -0.1232, -1.2650],\n",
       "         [ 1.4184,  1.4489,  0.4345,  ..., -0.3900, -0.1232, -1.2650]],\n",
       "        grad_fn=<EmbeddingBackward0>),\n",
       " tensor([[ 0.9145,  2.0021, -0.5080],\n",
       "         [ 0.9145,  2.0021, -0.5080],\n",
       "         [ 0.9145,  2.0021, -0.5080],\n",
       "         ...,\n",
       "         [ 0.9145,  2.0021, -0.5080],\n",
       "         [ 0.9145,  2.0021, -0.5080],\n",
       "         [ 0.9145,  2.0021, -0.5080]], grad_fn=<EmbeddingBackward0>),\n",
       " tensor([[0.3850],\n",
       "         [0.3850],\n",
       "         [0.3850],\n",
       "         ...,\n",
       "         [0.3850],\n",
       "         [0.3850],\n",
       "         [0.3850]], grad_fn=<EmbeddingBackward0>),\n",
       " tensor([[ 1.4823, -0.3792],\n",
       "         [ 1.4823, -0.3792],\n",
       "         [ 0.1111, -0.5346],\n",
       "         ...,\n",
       "         [ 1.4823, -0.3792],\n",
       "         [ 1.4823, -0.3792],\n",
       "         [ 1.4823, -0.3792]], grad_fn=<EmbeddingBackward0>)]"
      ]
     },
     "execution_count": 31,
     "metadata": {},
     "output_type": "execute_result"
    }
   ],
   "source": [
    "embedding_val"
   ]
  },
  {
   "cell_type": "code",
   "execution_count": 32,
   "metadata": {},
   "outputs": [
    {
     "data": {
      "text/plain": [
       "tensor([[-0.7959, -0.1882,  0.3682,  ...,  0.3850,  1.4823, -0.3792],\n",
       "        [ 1.4184,  1.4489,  0.4345,  ...,  0.3850,  1.4823, -0.3792],\n",
       "        [-0.7959, -0.1882,  0.3682,  ...,  0.3850,  0.1111, -0.5346],\n",
       "        ...,\n",
       "        [-1.4404,  0.4848,  0.6923,  ...,  0.3850,  1.4823, -0.3792],\n",
       "        [ 1.4184,  1.4489,  0.4345,  ...,  0.3850,  1.4823, -0.3792],\n",
       "        [ 1.4184,  1.4489,  0.4345,  ...,  0.3850,  1.4823, -0.3792]],\n",
       "       grad_fn=<CatBackward0>)"
      ]
     },
     "execution_count": 32,
     "metadata": {},
     "output_type": "execute_result"
    }
   ],
   "source": [
    "z = torch.cat(embedding_val, 1)\n",
    "z\n",
    "#combines the tensors from embedding_val along the columns (dimension 1) into a single tensor z,\n",
    "# where all the embeddings are merged together into a unified representation."
   ]
  },
  {
   "cell_type": "code",
   "execution_count": 33,
   "metadata": {},
   "outputs": [],
   "source": [
    "# Implement dropupout\n",
    "droput=nn.Dropout(.4)\n",
    "#creates a dropout layer that will randomly set 40% of the input units to zero during training,\n",
    "# helping to prevent overfitting by regularizing the model."
   ]
  },
  {
   "cell_type": "code",
   "execution_count": 34,
   "metadata": {},
   "outputs": [
    {
     "data": {
      "text/plain": [
       "tensor([[-0.0000, -0.3137,  0.6137,  ...,  0.6417,  0.0000, -0.0000],\n",
       "        [ 2.3640,  2.4148,  0.7242,  ...,  0.6417,  0.0000, -0.6320],\n",
       "        [-1.3266, -0.3137,  0.6137,  ...,  0.0000,  0.1852, -0.8910],\n",
       "        ...,\n",
       "        [-2.4006,  0.8080,  1.1538,  ...,  0.6417,  2.4705, -0.6320],\n",
       "        [ 2.3640,  0.0000,  0.7242,  ...,  0.6417,  2.4705, -0.6320],\n",
       "        [ 0.0000,  0.0000,  0.0000,  ...,  0.0000,  0.0000, -0.6320]],\n",
       "       grad_fn=<MulBackward0>)"
      ]
     },
     "execution_count": 34,
     "metadata": {},
     "output_type": "execute_result"
    }
   ],
   "source": [
    "final_embed=droput(z)\n",
    "final_embed\n"
   ]
  },
  {
   "cell_type": "code",
   "execution_count": 35,
   "metadata": {},
   "outputs": [],
   "source": [
    "class FeedForwardNN(nn.Module):\n",
    "    # Initialize the feedforward neural network model, each class should have 2 functions: __init__ and forward\n",
    "\n",
    "    def __init__(self, embedding_dim, n_cont, out_sz, layers, p=0.5):\n",
    "        super().__init__()\n",
    "        # Step 1: Define the embedding layers for categorical features\n",
    "        self.embeds = nn.ModuleList([nn.Embedding(inp,out) for inp,out in embedding_dim])\n",
    "        # Step 2: Dropout layer for regularization applied after embedding\n",
    "        self.emb_drop = nn.Dropout(p)\n",
    "        # Step 3: Batch normalization for continuous features\n",
    "        # Normalize continuous features for better model performance\n",
    "        self.bn_cont = nn.BatchNorm1d(n_cont)\n",
    "        \n",
    "        # Step 4: Create the fully connected layers (hidden layers) in the model\n",
    "        # 'layers' is a list containing the number of neurons for each hidden layer.\n",
    "        # 'n_emb' is the total number of features after embeddings are concatenated.\n",
    "        # 'n_in' is the number of input features for the first layer, which is the sum of embeddings and continuous features.\n",
    "\n",
    "        layerlist = []\n",
    "        n_emb = sum((out for inp,out in embedding_dim))\n",
    "        n_in = n_emb + n_cont\n",
    "        \n",
    "        for i in layers:\n",
    "            # For each layer in 'layers', create a fully connected (Linear) layer followed by:\n",
    "            # 1. ReLU activation for non-linearity\n",
    "            # 2. Batch normalization to stabilize training\n",
    "            # 3. Dropout to prevent overfitting\n",
    "\n",
    "            layerlist.append(nn.Linear(n_in,i)) \n",
    "            layerlist.append(nn.ReLU(inplace=True))\n",
    "            layerlist.append(nn.BatchNorm1d(i))\n",
    "            layerlist.append(nn.Dropout(p))\n",
    "            n_in = i\n",
    "        # Step 5: Final output layer to make the predictions\n",
    "        layerlist.append(nn.Linear(layers[-1],out_sz))\n",
    "            \n",
    "        self.layers = nn.Sequential(*layerlist)\n",
    "    \n",
    "    def forward(self, x_cat, x_cont):\n",
    "        embeddings = []\n",
    "        for i,e in enumerate(self.embeds):\n",
    "            embeddings.append(e(x_cat[:,i]))\n",
    "        x = torch.cat(embeddings, 1)\n",
    "        x = self.emb_drop(x)\n",
    "        \n",
    "        x_cont = self.bn_cont(x_cont)\n",
    "        x = torch.cat([x, x_cont], 1)\n",
    "        x = self.layers(x)\n",
    "        return x"
   ]
  },
  {
   "cell_type": "code",
   "execution_count": 39,
   "metadata": {},
   "outputs": [],
   "source": [
    "torch.manual_seed(100)\n",
    "model=FeedForwardNN(embedding_dim,len(cont_features),1,[100,50],p=0.4)\n"
   ]
  },
  {
   "cell_type": "code",
   "execution_count": 40,
   "metadata": {},
   "outputs": [
    {
     "data": {
      "text/plain": [
       "FeedForwardNN(\n",
       "  (embeds): ModuleList(\n",
       "    (0): Embedding(15, 8)\n",
       "    (1): Embedding(5, 3)\n",
       "    (2): Embedding(2, 1)\n",
       "    (3): Embedding(4, 2)\n",
       "  )\n",
       "  (emb_drop): Dropout(p=0.4, inplace=False)\n",
       "  (bn_cont): BatchNorm1d(6, eps=1e-05, momentum=0.1, affine=True, track_running_stats=True)\n",
       "  (layers): Sequential(\n",
       "    (0): Linear(in_features=20, out_features=100, bias=True)\n",
       "    (1): ReLU(inplace=True)\n",
       "    (2): BatchNorm1d(100, eps=1e-05, momentum=0.1, affine=True, track_running_stats=True)\n",
       "    (3): Dropout(p=0.4, inplace=False)\n",
       "    (4): Linear(in_features=100, out_features=50, bias=True)\n",
       "    (5): ReLU(inplace=True)\n",
       "    (6): BatchNorm1d(50, eps=1e-05, momentum=0.1, affine=True, track_running_stats=True)\n",
       "    (7): Dropout(p=0.4, inplace=False)\n",
       "    (8): Linear(in_features=50, out_features=1, bias=True)\n",
       "  )\n",
       ")"
      ]
     },
     "execution_count": 40,
     "metadata": {},
     "output_type": "execute_result"
    }
   ],
   "source": [
    "model"
   ]
  },
  {
   "cell_type": "code",
   "execution_count": 43,
   "metadata": {},
   "outputs": [
    {
     "data": {
      "text/plain": [
       "<bound method Module.parameters of FeedForwardNN(\n",
       "  (embeds): ModuleList(\n",
       "    (0): Embedding(15, 8)\n",
       "    (1): Embedding(5, 3)\n",
       "    (2): Embedding(2, 1)\n",
       "    (3): Embedding(4, 2)\n",
       "  )\n",
       "  (emb_drop): Dropout(p=0.4, inplace=False)\n",
       "  (bn_cont): BatchNorm1d(6, eps=1e-05, momentum=0.1, affine=True, track_running_stats=True)\n",
       "  (layers): Sequential(\n",
       "    (0): Linear(in_features=20, out_features=100, bias=True)\n",
       "    (1): ReLU(inplace=True)\n",
       "    (2): BatchNorm1d(100, eps=1e-05, momentum=0.1, affine=True, track_running_stats=True)\n",
       "    (3): Dropout(p=0.4, inplace=False)\n",
       "    (4): Linear(in_features=100, out_features=50, bias=True)\n",
       "    (5): ReLU(inplace=True)\n",
       "    (6): BatchNorm1d(50, eps=1e-05, momentum=0.1, affine=True, track_running_stats=True)\n",
       "    (7): Dropout(p=0.4, inplace=False)\n",
       "    (8): Linear(in_features=50, out_features=1, bias=True)\n",
       "  )\n",
       ")>"
      ]
     },
     "execution_count": 43,
     "metadata": {},
     "output_type": "execute_result"
    }
   ],
   "source": [
    "model.parameters"
   ]
  },
  {
   "cell_type": "markdown",
   "metadata": {},
   "source": [
    "Define Loss And Optimizer"
   ]
  },
  {
   "cell_type": "code",
   "execution_count": 41,
   "metadata": {},
   "outputs": [],
   "source": [
    "loss_function=nn.MSELoss()\n",
    "optimizer=torch.optim.Adam(model.parameters(),lr=0.01)"
   ]
  },
  {
   "cell_type": "code",
   "execution_count": 44,
   "metadata": {},
   "outputs": [
    {
     "data": {
      "text/plain": [
       "(1201, 11)"
      ]
     },
     "execution_count": 44,
     "metadata": {},
     "output_type": "execute_result"
    }
   ],
   "source": [
    "df.shape"
   ]
  },
  {
   "cell_type": "code",
   "execution_count": 45,
   "metadata": {},
   "outputs": [
    {
     "data": {
      "text/plain": [
       "torch.Size([1201, 6])"
      ]
     },
     "execution_count": 45,
     "metadata": {},
     "output_type": "execute_result"
    }
   ],
   "source": [
    "cont_values.shape"
   ]
  },
  {
   "cell_type": "code",
   "execution_count": 46,
   "metadata": {},
   "outputs": [],
   "source": [
    "batch_size=1200\n",
    "test_size=int(batch_size*0.15)\n",
    "train_categorical=cat_features[:batch_size-test_size]\n",
    "test_categorical=cat_features[batch_size-test_size:batch_size]\n",
    "train_cont=cont_values[:batch_size-test_size]\n",
    "test_cont=cont_values[batch_size-test_size:batch_size]\n",
    "y_train=y[:batch_size-test_size]\n",
    "y_test=y[batch_size-test_size:batch_size]"
   ]
  },
  {
   "cell_type": "code",
   "execution_count": 47,
   "metadata": {},
   "outputs": [
    {
     "data": {
      "text/plain": [
       "(1020, 180, 1020, 180, 1020, 180)"
      ]
     },
     "execution_count": 47,
     "metadata": {},
     "output_type": "execute_result"
    }
   ],
   "source": [
    "len(train_categorical),len(test_categorical),len(train_cont),len(test_cont),len(y_train),len(y_test)"
   ]
  },
  {
   "cell_type": "code",
   "execution_count": 48,
   "metadata": {},
   "outputs": [
    {
     "name": "stdout",
     "output_type": "stream",
     "text": [
      "Epoch number: 1 and the loss : 200496.859375\n",
      "Epoch number: 11 and the loss : 200493.8125\n",
      "Epoch number: 21 and the loss : 200489.609375\n",
      "Epoch number: 31 and the loss : 200483.046875\n",
      "Epoch number: 41 and the loss : 200474.359375\n",
      "Epoch number: 51 and the loss : 200462.390625\n",
      "Epoch number: 61 and the loss : 200448.109375\n",
      "Epoch number: 71 and the loss : 200429.328125\n",
      "Epoch number: 81 and the loss : 200408.890625\n",
      "Epoch number: 91 and the loss : 200384.375\n",
      "Epoch number: 101 and the loss : 200358.328125\n",
      "Epoch number: 111 and the loss : 200324.53125\n",
      "Epoch number: 121 and the loss : 200290.8125\n",
      "Epoch number: 131 and the loss : 200253.25\n",
      "Epoch number: 141 and the loss : 200208.875\n",
      "Epoch number: 151 and the loss : 200162.6875\n",
      "Epoch number: 161 and the loss : 200112.625\n",
      "Epoch number: 171 and the loss : 200060.234375\n",
      "Epoch number: 181 and the loss : 199998.140625\n",
      "Epoch number: 191 and the loss : 199938.28125\n",
      "Epoch number: 201 and the loss : 199889.171875\n",
      "Epoch number: 211 and the loss : 199812.953125\n",
      "Epoch number: 221 and the loss : 199739.390625\n",
      "Epoch number: 231 and the loss : 199677.265625\n",
      "Epoch number: 241 and the loss : 199578.609375\n",
      "Epoch number: 251 and the loss : 199513.78125\n",
      "Epoch number: 261 and the loss : 199442.375\n",
      "Epoch number: 271 and the loss : 199325.984375\n",
      "Epoch number: 281 and the loss : 199243.796875\n",
      "Epoch number: 291 and the loss : 199131.53125\n",
      "Epoch number: 301 and the loss : 199050.203125\n",
      "Epoch number: 311 and the loss : 198946.296875\n",
      "Epoch number: 321 and the loss : 198823.78125\n",
      "Epoch number: 331 and the loss : 198739.6875\n",
      "Epoch number: 341 and the loss : 198593.671875\n",
      "Epoch number: 351 and the loss : 198511.671875\n",
      "Epoch number: 361 and the loss : 198381.703125\n",
      "Epoch number: 371 and the loss : 198254.046875\n",
      "Epoch number: 381 and the loss : 198117.625\n",
      "Epoch number: 391 and the loss : 197997.375\n",
      "Epoch number: 401 and the loss : 197854.46875\n",
      "Epoch number: 411 and the loss : 197763.140625\n",
      "Epoch number: 421 and the loss : 197556.03125\n",
      "Epoch number: 431 and the loss : 197427.671875\n",
      "Epoch number: 441 and the loss : 197300.40625\n",
      "Epoch number: 451 and the loss : 197145.046875\n",
      "Epoch number: 461 and the loss : 196970.9375\n",
      "Epoch number: 471 and the loss : 196815.28125\n",
      "Epoch number: 481 and the loss : 196636.828125\n",
      "Epoch number: 491 and the loss : 196502.671875\n",
      "Epoch number: 501 and the loss : 196337.890625\n",
      "Epoch number: 511 and the loss : 196129.796875\n",
      "Epoch number: 521 and the loss : 195996.265625\n",
      "Epoch number: 531 and the loss : 195862.765625\n",
      "Epoch number: 541 and the loss : 195687.515625\n",
      "Epoch number: 551 and the loss : 195533.328125\n",
      "Epoch number: 561 and the loss : 195345.84375\n",
      "Epoch number: 571 and the loss : 195099.953125\n",
      "Epoch number: 581 and the loss : 194915.65625\n",
      "Epoch number: 591 and the loss : 194707.953125\n",
      "Epoch number: 601 and the loss : 194506.734375\n",
      "Epoch number: 611 and the loss : 194294.984375\n",
      "Epoch number: 621 and the loss : 194106.109375\n",
      "Epoch number: 631 and the loss : 193903.0625\n",
      "Epoch number: 641 and the loss : 193757.6875\n",
      "Epoch number: 651 and the loss : 193474.90625\n",
      "Epoch number: 661 and the loss : 193250.90625\n",
      "Epoch number: 671 and the loss : 193179.953125\n",
      "Epoch number: 681 and the loss : 192790.25\n",
      "Epoch number: 691 and the loss : 192756.625\n",
      "Epoch number: 701 and the loss : 192437.296875\n",
      "Epoch number: 711 and the loss : 192134.953125\n",
      "Epoch number: 721 and the loss : 191873.109375\n",
      "Epoch number: 731 and the loss : 191691.515625\n",
      "Epoch number: 741 and the loss : 191514.828125\n",
      "Epoch number: 751 and the loss : 191163.984375\n",
      "Epoch number: 761 and the loss : 191010.859375\n",
      "Epoch number: 771 and the loss : 190681.75\n",
      "Epoch number: 781 and the loss : 190460.5625\n",
      "Epoch number: 791 and the loss : 190170.421875\n",
      "Epoch number: 801 and the loss : 190065.953125\n",
      "Epoch number: 811 and the loss : 189629.046875\n",
      "Epoch number: 821 and the loss : 189496.203125\n",
      "Epoch number: 831 and the loss : 189242.703125\n",
      "Epoch number: 841 and the loss : 188984.0\n",
      "Epoch number: 851 and the loss : 188689.390625\n",
      "Epoch number: 861 and the loss : 188356.625\n",
      "Epoch number: 871 and the loss : 188069.578125\n",
      "Epoch number: 881 and the loss : 187802.234375\n",
      "Epoch number: 891 and the loss : 187404.015625\n",
      "Epoch number: 901 and the loss : 187280.0625\n",
      "Epoch number: 911 and the loss : 187100.171875\n",
      "Epoch number: 921 and the loss : 186841.296875\n",
      "Epoch number: 931 and the loss : 186596.203125\n",
      "Epoch number: 941 and the loss : 186122.4375\n",
      "Epoch number: 951 and the loss : 185848.59375\n",
      "Epoch number: 961 and the loss : 185533.75\n",
      "Epoch number: 971 and the loss : 185579.125\n",
      "Epoch number: 981 and the loss : 185031.578125\n",
      "Epoch number: 991 and the loss : 184435.46875\n",
      "Epoch number: 1001 and the loss : 184449.9375\n",
      "Epoch number: 1011 and the loss : 184042.765625\n",
      "Epoch number: 1021 and the loss : 183733.734375\n",
      "Epoch number: 1031 and the loss : 183318.15625\n",
      "Epoch number: 1041 and the loss : 183114.984375\n",
      "Epoch number: 1051 and the loss : 182568.0625\n",
      "Epoch number: 1061 and the loss : 182382.734375\n",
      "Epoch number: 1071 and the loss : 182098.53125\n",
      "Epoch number: 1081 and the loss : 182109.984375\n",
      "Epoch number: 1091 and the loss : 181517.5625\n",
      "Epoch number: 1101 and the loss : 181158.140625\n",
      "Epoch number: 1111 and the loss : 181056.890625\n",
      "Epoch number: 1121 and the loss : 180794.5625\n",
      "Epoch number: 1131 and the loss : 180256.53125\n",
      "Epoch number: 1141 and the loss : 179867.9375\n",
      "Epoch number: 1151 and the loss : 179400.546875\n",
      "Epoch number: 1161 and the loss : 179232.546875\n",
      "Epoch number: 1171 and the loss : 178729.796875\n",
      "Epoch number: 1181 and the loss : 178413.796875\n",
      "Epoch number: 1191 and the loss : 178349.015625\n",
      "Epoch number: 1201 and the loss : 177614.984375\n",
      "Epoch number: 1211 and the loss : 177451.78125\n",
      "Epoch number: 1221 and the loss : 177151.546875\n",
      "Epoch number: 1231 and the loss : 176936.359375\n",
      "Epoch number: 1241 and the loss : 176267.59375\n",
      "Epoch number: 1251 and the loss : 175578.75\n",
      "Epoch number: 1261 and the loss : 175773.40625\n",
      "Epoch number: 1271 and the loss : 175469.0\n",
      "Epoch number: 1281 and the loss : 174936.21875\n",
      "Epoch number: 1291 and the loss : 174275.40625\n",
      "Epoch number: 1301 and the loss : 174167.453125\n",
      "Epoch number: 1311 and the loss : 173978.234375\n",
      "Epoch number: 1321 and the loss : 173172.25\n",
      "Epoch number: 1331 and the loss : 173107.71875\n",
      "Epoch number: 1341 and the loss : 172622.96875\n",
      "Epoch number: 1351 and the loss : 172224.46875\n",
      "Epoch number: 1361 and the loss : 171614.515625\n",
      "Epoch number: 1371 and the loss : 171545.21875\n",
      "Epoch number: 1381 and the loss : 170943.734375\n",
      "Epoch number: 1391 and the loss : 170705.46875\n",
      "Epoch number: 1401 and the loss : 170399.71875\n",
      "Epoch number: 1411 and the loss : 170023.921875\n",
      "Epoch number: 1421 and the loss : 169731.921875\n",
      "Epoch number: 1431 and the loss : 169293.734375\n",
      "Epoch number: 1441 and the loss : 168375.65625\n",
      "Epoch number: 1451 and the loss : 168114.234375\n",
      "Epoch number: 1461 and the loss : 167749.875\n",
      "Epoch number: 1471 and the loss : 167655.3125\n",
      "Epoch number: 1481 and the loss : 167099.796875\n",
      "Epoch number: 1491 and the loss : 166771.171875\n",
      "Epoch number: 1501 and the loss : 166697.703125\n",
      "Epoch number: 1511 and the loss : 165885.703125\n",
      "Epoch number: 1521 and the loss : 165539.703125\n",
      "Epoch number: 1531 and the loss : 165154.765625\n",
      "Epoch number: 1541 and the loss : 164993.171875\n",
      "Epoch number: 1551 and the loss : 164331.34375\n",
      "Epoch number: 1561 and the loss : 163999.078125\n",
      "Epoch number: 1571 and the loss : 163397.546875\n",
      "Epoch number: 1581 and the loss : 163454.765625\n",
      "Epoch number: 1591 and the loss : 162376.796875\n",
      "Epoch number: 1601 and the loss : 162073.296875\n",
      "Epoch number: 1611 and the loss : 161994.078125\n",
      "Epoch number: 1621 and the loss : 161048.96875\n",
      "Epoch number: 1631 and the loss : 160925.21875\n",
      "Epoch number: 1641 and the loss : 160872.484375\n",
      "Epoch number: 1651 and the loss : 159912.125\n",
      "Epoch number: 1661 and the loss : 159576.875\n",
      "Epoch number: 1671 and the loss : 159236.03125\n",
      "Epoch number: 1681 and the loss : 158793.890625\n",
      "Epoch number: 1691 and the loss : 157735.140625\n",
      "Epoch number: 1701 and the loss : 158324.6875\n",
      "Epoch number: 1711 and the loss : 157152.078125\n",
      "Epoch number: 1721 and the loss : 156836.78125\n",
      "Epoch number: 1731 and the loss : 156454.71875\n",
      "Epoch number: 1741 and the loss : 155906.34375\n",
      "Epoch number: 1751 and the loss : 155427.1875\n",
      "Epoch number: 1761 and the loss : 155062.25\n",
      "Epoch number: 1771 and the loss : 154520.046875\n",
      "Epoch number: 1781 and the loss : 154002.203125\n",
      "Epoch number: 1791 and the loss : 153376.953125\n",
      "Epoch number: 1801 and the loss : 153513.171875\n",
      "Epoch number: 1811 and the loss : 152860.4375\n",
      "Epoch number: 1821 and the loss : 152080.3125\n",
      "Epoch number: 1831 and the loss : 152410.390625\n",
      "Epoch number: 1841 and the loss : 151873.0\n",
      "Epoch number: 1851 and the loss : 150875.625\n",
      "Epoch number: 1861 and the loss : 150529.03125\n",
      "Epoch number: 1871 and the loss : 150209.046875\n",
      "Epoch number: 1881 and the loss : 150104.6875\n",
      "Epoch number: 1891 and the loss : 149884.171875\n",
      "Epoch number: 1901 and the loss : 148477.09375\n",
      "Epoch number: 1911 and the loss : 147983.984375\n",
      "Epoch number: 1921 and the loss : 147670.484375\n",
      "Epoch number: 1931 and the loss : 147545.5\n",
      "Epoch number: 1941 and the loss : 146632.3125\n",
      "Epoch number: 1951 and the loss : 146322.09375\n",
      "Epoch number: 1961 and the loss : 145390.703125\n",
      "Epoch number: 1971 and the loss : 145598.84375\n",
      "Epoch number: 1981 and the loss : 144866.875\n",
      "Epoch number: 1991 and the loss : 143703.21875\n",
      "Epoch number: 2001 and the loss : 143806.421875\n",
      "Epoch number: 2011 and the loss : 143702.875\n",
      "Epoch number: 2021 and the loss : 142674.5\n",
      "Epoch number: 2031 and the loss : 143035.296875\n",
      "Epoch number: 2041 and the loss : 142160.1875\n",
      "Epoch number: 2051 and the loss : 141633.265625\n",
      "Epoch number: 2061 and the loss : 140950.125\n",
      "Epoch number: 2071 and the loss : 140096.671875\n",
      "Epoch number: 2081 and the loss : 140427.9375\n",
      "Epoch number: 2091 and the loss : 139484.28125\n",
      "Epoch number: 2101 and the loss : 139522.46875\n",
      "Epoch number: 2111 and the loss : 139245.03125\n",
      "Epoch number: 2121 and the loss : 137626.25\n",
      "Epoch number: 2131 and the loss : 137516.625\n",
      "Epoch number: 2141 and the loss : 137550.078125\n",
      "Epoch number: 2151 and the loss : 137251.84375\n",
      "Epoch number: 2161 and the loss : 136666.484375\n",
      "Epoch number: 2171 and the loss : 135828.203125\n",
      "Epoch number: 2181 and the loss : 134404.78125\n",
      "Epoch number: 2191 and the loss : 135039.3125\n",
      "Epoch number: 2201 and the loss : 134375.78125\n",
      "Epoch number: 2211 and the loss : 133632.859375\n",
      "Epoch number: 2221 and the loss : 133475.484375\n",
      "Epoch number: 2231 and the loss : 133164.453125\n",
      "Epoch number: 2241 and the loss : 131665.703125\n",
      "Epoch number: 2251 and the loss : 131286.5625\n",
      "Epoch number: 2261 and the loss : 131157.0625\n",
      "Epoch number: 2271 and the loss : 131177.875\n",
      "Epoch number: 2281 and the loss : 130316.03125\n",
      "Epoch number: 2291 and the loss : 129364.734375\n",
      "Epoch number: 2301 and the loss : 129006.90625\n",
      "Epoch number: 2311 and the loss : 128797.640625\n",
      "Epoch number: 2321 and the loss : 128245.203125\n",
      "Epoch number: 2331 and the loss : 127527.1328125\n",
      "Epoch number: 2341 and the loss : 126561.1875\n",
      "Epoch number: 2351 and the loss : 126532.640625\n",
      "Epoch number: 2361 and the loss : 126042.75\n",
      "Epoch number: 2371 and the loss : 126058.2890625\n",
      "Epoch number: 2381 and the loss : 125683.2890625\n",
      "Epoch number: 2391 and the loss : 125330.6953125\n",
      "Epoch number: 2401 and the loss : 123986.6171875\n",
      "Epoch number: 2411 and the loss : 123953.546875\n",
      "Epoch number: 2421 and the loss : 123281.8125\n",
      "Epoch number: 2431 and the loss : 122476.609375\n",
      "Epoch number: 2441 and the loss : 122649.328125\n",
      "Epoch number: 2451 and the loss : 122590.21875\n",
      "Epoch number: 2461 and the loss : 120414.6640625\n",
      "Epoch number: 2471 and the loss : 120785.328125\n",
      "Epoch number: 2481 and the loss : 120692.1640625\n",
      "Epoch number: 2491 and the loss : 120201.0390625\n",
      "Epoch number: 2501 and the loss : 119243.828125\n",
      "Epoch number: 2511 and the loss : 118674.3203125\n",
      "Epoch number: 2521 and the loss : 118434.421875\n",
      "Epoch number: 2531 and the loss : 117497.0546875\n",
      "Epoch number: 2541 and the loss : 117064.640625\n",
      "Epoch number: 2551 and the loss : 116410.7109375\n",
      "Epoch number: 2561 and the loss : 116135.25\n",
      "Epoch number: 2571 and the loss : 115199.6953125\n",
      "Epoch number: 2581 and the loss : 116031.1484375\n",
      "Epoch number: 2591 and the loss : 115266.765625\n",
      "Epoch number: 2601 and the loss : 114946.1328125\n",
      "Epoch number: 2611 and the loss : 114026.21875\n",
      "Epoch number: 2621 and the loss : 113867.9765625\n",
      "Epoch number: 2631 and the loss : 112760.4375\n",
      "Epoch number: 2641 and the loss : 112433.3515625\n",
      "Epoch number: 2651 and the loss : 111470.03125\n",
      "Epoch number: 2661 and the loss : 111998.03125\n",
      "Epoch number: 2671 and the loss : 111025.3046875\n",
      "Epoch number: 2681 and the loss : 110820.15625\n",
      "Epoch number: 2691 and the loss : 110469.4765625\n",
      "Epoch number: 2701 and the loss : 110400.875\n",
      "Epoch number: 2711 and the loss : 108150.09375\n",
      "Epoch number: 2721 and the loss : 108589.3984375\n",
      "Epoch number: 2731 and the loss : 108018.1015625\n",
      "Epoch number: 2741 and the loss : 107305.1015625\n",
      "Epoch number: 2751 and the loss : 106763.7890625\n",
      "Epoch number: 2761 and the loss : 106078.9921875\n",
      "Epoch number: 2771 and the loss : 106382.0703125\n",
      "Epoch number: 2781 and the loss : 104771.0859375\n",
      "Epoch number: 2791 and the loss : 105252.265625\n",
      "Epoch number: 2801 and the loss : 103616.21875\n",
      "Epoch number: 2811 and the loss : 103990.9296875\n",
      "Epoch number: 2821 and the loss : 103352.3984375\n",
      "Epoch number: 2831 and the loss : 103274.421875\n",
      "Epoch number: 2841 and the loss : 101904.4765625\n",
      "Epoch number: 2851 and the loss : 102553.859375\n",
      "Epoch number: 2861 and the loss : 102080.0625\n",
      "Epoch number: 2871 and the loss : 101315.7578125\n",
      "Epoch number: 2881 and the loss : 99956.6796875\n",
      "Epoch number: 2891 and the loss : 98587.8203125\n",
      "Epoch number: 2901 and the loss : 99144.984375\n",
      "Epoch number: 2911 and the loss : 98940.9921875\n",
      "Epoch number: 2921 and the loss : 98720.7265625\n",
      "Epoch number: 2931 and the loss : 97834.28125\n",
      "Epoch number: 2941 and the loss : 96761.484375\n",
      "Epoch number: 2951 and the loss : 96878.546875\n",
      "Epoch number: 2961 and the loss : 96077.515625\n",
      "Epoch number: 2971 and the loss : 95858.015625\n",
      "Epoch number: 2981 and the loss : 95067.4765625\n",
      "Epoch number: 2991 and the loss : 95209.3046875\n",
      "Epoch number: 3001 and the loss : 94573.3046875\n",
      "Epoch number: 3011 and the loss : 93566.234375\n",
      "Epoch number: 3021 and the loss : 93137.5234375\n",
      "Epoch number: 3031 and the loss : 93239.6171875\n",
      "Epoch number: 3041 and the loss : 92711.484375\n",
      "Epoch number: 3051 and the loss : 91424.3671875\n",
      "Epoch number: 3061 and the loss : 92222.640625\n",
      "Epoch number: 3071 and the loss : 90857.7109375\n",
      "Epoch number: 3081 and the loss : 90954.265625\n",
      "Epoch number: 3091 and the loss : 90600.5703125\n",
      "Epoch number: 3101 and the loss : 90787.6328125\n",
      "Epoch number: 3111 and the loss : 89802.203125\n",
      "Epoch number: 3121 and the loss : 87953.2109375\n",
      "Epoch number: 3131 and the loss : 87785.6484375\n",
      "Epoch number: 3141 and the loss : 86738.7578125\n",
      "Epoch number: 3151 and the loss : 87311.890625\n",
      "Epoch number: 3161 and the loss : 86792.6015625\n",
      "Epoch number: 3171 and the loss : 86368.328125\n",
      "Epoch number: 3181 and the loss : 85073.8984375\n",
      "Epoch number: 3191 and the loss : 85574.6953125\n",
      "Epoch number: 3201 and the loss : 84912.8828125\n",
      "Epoch number: 3211 and the loss : 83998.28125\n",
      "Epoch number: 3221 and the loss : 83697.9140625\n",
      "Epoch number: 3231 and the loss : 84089.3984375\n",
      "Epoch number: 3241 and the loss : 81679.734375\n",
      "Epoch number: 3251 and the loss : 82389.1640625\n",
      "Epoch number: 3261 and the loss : 81379.7578125\n",
      "Epoch number: 3271 and the loss : 81397.703125\n",
      "Epoch number: 3281 and the loss : 81657.078125\n",
      "Epoch number: 3291 and the loss : 79276.15625\n",
      "Epoch number: 3301 and the loss : 79022.203125\n",
      "Epoch number: 3311 and the loss : 80003.7265625\n",
      "Epoch number: 3321 and the loss : 78285.4921875\n",
      "Epoch number: 3331 and the loss : 78751.1171875\n",
      "Epoch number: 3341 and the loss : 77808.28125\n",
      "Epoch number: 3351 and the loss : 77148.6953125\n",
      "Epoch number: 3361 and the loss : 76899.796875\n",
      "Epoch number: 3371 and the loss : 76449.0625\n",
      "Epoch number: 3381 and the loss : 75681.2890625\n",
      "Epoch number: 3391 and the loss : 75239.78125\n",
      "Epoch number: 3401 and the loss : 73253.78125\n",
      "Epoch number: 3411 and the loss : 75142.3671875\n",
      "Epoch number: 3421 and the loss : 74445.3203125\n",
      "Epoch number: 3431 and the loss : 73996.71875\n",
      "Epoch number: 3441 and the loss : 72356.1328125\n",
      "Epoch number: 3451 and the loss : 71768.734375\n",
      "Epoch number: 3461 and the loss : 73943.546875\n",
      "Epoch number: 3471 and the loss : 70634.15625\n",
      "Epoch number: 3481 and the loss : 69882.7265625\n",
      "Epoch number: 3491 and the loss : 70998.4921875\n",
      "Epoch number: 3501 and the loss : 70274.859375\n",
      "Epoch number: 3511 and the loss : 69629.65625\n",
      "Epoch number: 3521 and the loss : 68411.578125\n",
      "Epoch number: 3531 and the loss : 68569.0390625\n",
      "Epoch number: 3541 and the loss : 67617.578125\n",
      "Epoch number: 3551 and the loss : 67524.078125\n",
      "Epoch number: 3561 and the loss : 71719.6015625\n",
      "Epoch number: 3571 and the loss : 66308.421875\n",
      "Epoch number: 3581 and the loss : 65329.5\n",
      "Epoch number: 3591 and the loss : 65567.46875\n",
      "Epoch number: 3601 and the loss : 64680.3671875\n",
      "Epoch number: 3611 and the loss : 65840.9609375\n",
      "Epoch number: 3621 and the loss : 64168.109375\n",
      "Epoch number: 3631 and the loss : 63490.51171875\n",
      "Epoch number: 3641 and the loss : 63058.953125\n",
      "Epoch number: 3651 and the loss : 62189.546875\n",
      "Epoch number: 3661 and the loss : 60763.68359375\n",
      "Epoch number: 3671 and the loss : 61525.796875\n",
      "Epoch number: 3681 and the loss : 63366.40234375\n",
      "Epoch number: 3691 and the loss : 61490.0078125\n",
      "Epoch number: 3701 and the loss : 60733.65625\n",
      "Epoch number: 3711 and the loss : 59900.85546875\n",
      "Epoch number: 3721 and the loss : 58981.28125\n",
      "Epoch number: 3731 and the loss : 59231.09765625\n",
      "Epoch number: 3741 and the loss : 59096.8515625\n",
      "Epoch number: 3751 and the loss : 58292.90234375\n",
      "Epoch number: 3761 and the loss : 58755.09375\n",
      "Epoch number: 3771 and the loss : 57417.59375\n",
      "Epoch number: 3781 and the loss : 57486.06640625\n",
      "Epoch number: 3791 and the loss : 56538.34765625\n",
      "Epoch number: 3801 and the loss : 55727.234375\n",
      "Epoch number: 3811 and the loss : 55139.51171875\n",
      "Epoch number: 3821 and the loss : 55041.24609375\n",
      "Epoch number: 3831 and the loss : 54904.21484375\n",
      "Epoch number: 3841 and the loss : 55815.69140625\n",
      "Epoch number: 3851 and the loss : 54298.5625\n",
      "Epoch number: 3861 and the loss : 52546.1796875\n",
      "Epoch number: 3871 and the loss : 53649.22265625\n",
      "Epoch number: 3881 and the loss : 52122.23828125\n",
      "Epoch number: 3891 and the loss : 52138.890625\n",
      "Epoch number: 3901 and the loss : 51571.49609375\n",
      "Epoch number: 3911 and the loss : 51413.84765625\n",
      "Epoch number: 3921 and the loss : 51442.76171875\n",
      "Epoch number: 3931 and the loss : 50558.40625\n",
      "Epoch number: 3941 and the loss : 50260.17578125\n",
      "Epoch number: 3951 and the loss : 50964.140625\n",
      "Epoch number: 3961 and the loss : 49121.51171875\n",
      "Epoch number: 3971 and the loss : 48804.46484375\n",
      "Epoch number: 3981 and the loss : 49070.74609375\n",
      "Epoch number: 3991 and the loss : 48240.4921875\n",
      "Epoch number: 4001 and the loss : 47112.234375\n",
      "Epoch number: 4011 and the loss : 47001.2734375\n",
      "Epoch number: 4021 and the loss : 48639.5859375\n",
      "Epoch number: 4031 and the loss : 47910.25390625\n",
      "Epoch number: 4041 and the loss : 47409.83984375\n",
      "Epoch number: 4051 and the loss : 46330.53515625\n",
      "Epoch number: 4061 and the loss : 45488.37109375\n",
      "Epoch number: 4071 and the loss : 46430.55078125\n",
      "Epoch number: 4081 and the loss : 44526.25390625\n",
      "Epoch number: 4091 and the loss : 44785.8125\n",
      "Epoch number: 4101 and the loss : 45168.6484375\n",
      "Epoch number: 4111 and the loss : 43933.79296875\n",
      "Epoch number: 4121 and the loss : 43510.09375\n",
      "Epoch number: 4131 and the loss : 44127.85546875\n",
      "Epoch number: 4141 and the loss : 44190.7265625\n",
      "Epoch number: 4151 and the loss : 43187.52734375\n",
      "Epoch number: 4161 and the loss : 43314.13671875\n",
      "Epoch number: 4171 and the loss : 43085.71875\n",
      "Epoch number: 4181 and the loss : 43543.65625\n",
      "Epoch number: 4191 and the loss : 41678.3984375\n",
      "Epoch number: 4201 and the loss : 43287.3671875\n",
      "Epoch number: 4211 and the loss : 42947.6875\n",
      "Epoch number: 4221 and the loss : 41060.03125\n",
      "Epoch number: 4231 and the loss : 41612.8828125\n",
      "Epoch number: 4241 and the loss : 41174.5390625\n",
      "Epoch number: 4251 and the loss : 40500.6328125\n",
      "Epoch number: 4261 and the loss : 40630.15625\n",
      "Epoch number: 4271 and the loss : 40512.23046875\n",
      "Epoch number: 4281 and the loss : 39150.21484375\n",
      "Epoch number: 4291 and the loss : 40300.12109375\n",
      "Epoch number: 4301 and the loss : 40344.9921875\n",
      "Epoch number: 4311 and the loss : 38263.703125\n",
      "Epoch number: 4321 and the loss : 40098.22265625\n",
      "Epoch number: 4331 and the loss : 38764.0625\n",
      "Epoch number: 4341 and the loss : 38233.93359375\n",
      "Epoch number: 4351 and the loss : 39334.3046875\n",
      "Epoch number: 4361 and the loss : 38698.19921875\n",
      "Epoch number: 4371 and the loss : 40365.72265625\n",
      "Epoch number: 4381 and the loss : 38042.26171875\n",
      "Epoch number: 4391 and the loss : 40073.72265625\n",
      "Epoch number: 4401 and the loss : 38421.73828125\n",
      "Epoch number: 4411 and the loss : 39377.17578125\n",
      "Epoch number: 4421 and the loss : 37246.171875\n",
      "Epoch number: 4431 and the loss : 36412.65234375\n",
      "Epoch number: 4441 and the loss : 38785.59375\n",
      "Epoch number: 4451 and the loss : 35273.94921875\n",
      "Epoch number: 4461 and the loss : 37131.16796875\n",
      "Epoch number: 4471 and the loss : 37665.08203125\n",
      "Epoch number: 4481 and the loss : 37495.93359375\n",
      "Epoch number: 4491 and the loss : 38006.984375\n",
      "Epoch number: 4501 and the loss : 37138.41015625\n",
      "Epoch number: 4511 and the loss : 38058.6328125\n",
      "Epoch number: 4521 and the loss : 37686.46484375\n",
      "Epoch number: 4531 and the loss : 35196.3515625\n",
      "Epoch number: 4541 and the loss : 35738.59765625\n",
      "Epoch number: 4551 and the loss : 37184.82421875\n",
      "Epoch number: 4561 and the loss : 35178.4296875\n",
      "Epoch number: 4571 and the loss : 37390.7109375\n",
      "Epoch number: 4581 and the loss : 37088.66015625\n",
      "Epoch number: 4591 and the loss : 36298.75\n",
      "Epoch number: 4601 and the loss : 37481.9453125\n",
      "Epoch number: 4611 and the loss : 36464.60546875\n",
      "Epoch number: 4621 and the loss : 36505.984375\n",
      "Epoch number: 4631 and the loss : 35710.05078125\n",
      "Epoch number: 4641 and the loss : 35796.3359375\n",
      "Epoch number: 4651 and the loss : 36517.31640625\n",
      "Epoch number: 4661 and the loss : 37030.57421875\n",
      "Epoch number: 4671 and the loss : 35761.60546875\n",
      "Epoch number: 4681 and the loss : 36480.484375\n",
      "Epoch number: 4691 and the loss : 37075.87890625\n",
      "Epoch number: 4701 and the loss : 35173.34375\n",
      "Epoch number: 4711 and the loss : 35004.5703125\n",
      "Epoch number: 4721 and the loss : 36065.51171875\n",
      "Epoch number: 4731 and the loss : 34737.515625\n",
      "Epoch number: 4741 and the loss : 35425.671875\n",
      "Epoch number: 4751 and the loss : 35234.03515625\n",
      "Epoch number: 4761 and the loss : 35993.5390625\n",
      "Epoch number: 4771 and the loss : 34887.16796875\n",
      "Epoch number: 4781 and the loss : 35275.578125\n",
      "Epoch number: 4791 and the loss : 36785.3671875\n",
      "Epoch number: 4801 and the loss : 34422.03515625\n",
      "Epoch number: 4811 and the loss : 36392.859375\n",
      "Epoch number: 4821 and the loss : 33914.54296875\n",
      "Epoch number: 4831 and the loss : 35253.765625\n",
      "Epoch number: 4841 and the loss : 33829.83203125\n",
      "Epoch number: 4851 and the loss : 36872.07421875\n",
      "Epoch number: 4861 and the loss : 35601.484375\n",
      "Epoch number: 4871 and the loss : 34654.47265625\n",
      "Epoch number: 4881 and the loss : 35397.03125\n",
      "Epoch number: 4891 and the loss : 36405.734375\n",
      "Epoch number: 4901 and the loss : 34569.12109375\n",
      "Epoch number: 4911 and the loss : 34038.80078125\n",
      "Epoch number: 4921 and the loss : 37197.0234375\n",
      "Epoch number: 4931 and the loss : 35769.484375\n",
      "Epoch number: 4941 and the loss : 33684.515625\n",
      "Epoch number: 4951 and the loss : 35940.58203125\n",
      "Epoch number: 4961 and the loss : 35259.08984375\n",
      "Epoch number: 4971 and the loss : 36293.625\n",
      "Epoch number: 4981 and the loss : 36885.76171875\n",
      "Epoch number: 4991 and the loss : 34342.99609375\n"
     ]
    }
   ],
   "source": [
    "epochs=5000\n",
    "final_losses=[]\n",
    "for i in range(epochs):\n",
    "    i=i+1\n",
    "    y_pred=model(train_categorical,train_cont)\n",
    "    loss=torch.sqrt(loss_function(y_pred,y_train)) ### RMSE\n",
    "    final_losses.append(loss)\n",
    "    if i%10==1:\n",
    "        print(\"Epoch number: {} and the loss : {}\".format(i,loss.item()))\n",
    "    optimizer.zero_grad()\n",
    "    loss.backward()\n",
    "    optimizer.step()"
   ]
  },
  {
   "cell_type": "code",
   "execution_count": 53,
   "metadata": {},
   "outputs": [
    {
     "data": {
      "image/png": "[encoded data removed]",
      "text/plain": [
       "<Figure size 640x480 with 1 Axes>"
      ]
     },
     "metadata": {},
     "output_type": "display_data"
    }
   ],
   "source": [
    "%matplotlib inline\n",
    "# Detach the tensors in final_losses, convert them to NumPy, and then plot\n",
    "final_losses_numpy = [loss.detach().numpy() for loss in final_losses]\n",
    "plt.plot(range(epochs), final_losses_numpy)\n",
    "plt.ylabel('RMSE Loss')\n",
    "plt.xlabel('Epoch')\n",
    "plt.title('Training Loss Curve')\n",
    "plt.show()\n"
   ]
  },
  {
   "cell_type": "code",
   "execution_count": 55,
   "metadata": {},
   "outputs": [
    {
     "name": "stdout",
     "output_type": "stream",
     "text": [
      "RMSE: 42756.9921875\n"
     ]
    }
   ],
   "source": [
    "#Validate the Test Data\n",
    "y_pred=\"\"\n",
    "with torch.no_grad():\n",
    "    y_pred=model(test_categorical,test_cont)\n",
    "    loss=torch.sqrt(loss_function(y_pred,y_test))\n",
    "print('RMSE: {}'.format(loss))\n"
   ]
  },
  {
   "cell_type": "code",
   "execution_count": 56,
   "metadata": {},
   "outputs": [],
   "source": [
    "data_verify=pd.DataFrame(y_test.tolist(),columns=[\"Test\"])\n"
   ]
  },
  {
   "cell_type": "code",
   "execution_count": 57,
   "metadata": {},
   "outputs": [],
   "source": [
    "data_predicted=pd.DataFrame(y_pred.tolist(),columns=[\"Prediction\"])\n"
   ]
  },
  {
   "cell_type": "code",
   "execution_count": 58,
   "metadata": {},
   "outputs": [
    {
     "data": {
      "text/html": [
       "<div>\n",
       "<style scoped>\n",
       "    .dataframe tbody tr th:only-of-type {\n",
       "        vertical-align: middle;\n",
       "    }\n",
       "\n",
       "    .dataframe tbody tr th {\n",
       "        vertical-align: top;\n",
       "    }\n",
       "\n",
       "    .dataframe thead th {\n",
       "        text-align: right;\n",
       "    }\n",
       "</style>\n",
       "<table border=\"1\" class=\"dataframe\">\n",
       "  <thead>\n",
       "    <tr style=\"text-align: right;\">\n",
       "      <th></th>\n",
       "      <th>Test</th>\n",
       "      <th>Prediction</th>\n",
       "      <th>Difference</th>\n",
       "    </tr>\n",
       "  </thead>\n",
       "  <tbody>\n",
       "    <tr>\n",
       "      <th>0</th>\n",
       "      <td>130000.0</td>\n",
       "      <td>233482.984375</td>\n",
       "      <td>-103482.984375</td>\n",
       "    </tr>\n",
       "    <tr>\n",
       "      <th>1</th>\n",
       "      <td>138887.0</td>\n",
       "      <td>141734.890625</td>\n",
       "      <td>-2847.890625</td>\n",
       "    </tr>\n",
       "    <tr>\n",
       "      <th>2</th>\n",
       "      <td>175500.0</td>\n",
       "      <td>147861.484375</td>\n",
       "      <td>27638.515625</td>\n",
       "    </tr>\n",
       "    <tr>\n",
       "      <th>3</th>\n",
       "      <td>195000.0</td>\n",
       "      <td>228324.140625</td>\n",
       "      <td>-33324.140625</td>\n",
       "    </tr>\n",
       "    <tr>\n",
       "      <th>4</th>\n",
       "      <td>142500.0</td>\n",
       "      <td>156589.406250</td>\n",
       "      <td>-14089.406250</td>\n",
       "    </tr>\n",
       "  </tbody>\n",
       "</table>\n",
       "</div>"
      ],
      "text/plain": [
       "       Test     Prediction     Difference\n",
       "0  130000.0  233482.984375 -103482.984375\n",
       "1  138887.0  141734.890625   -2847.890625\n",
       "2  175500.0  147861.484375   27638.515625\n",
       "3  195000.0  228324.140625  -33324.140625\n",
       "4  142500.0  156589.406250  -14089.406250"
      ]
     },
     "execution_count": 58,
     "metadata": {},
     "output_type": "execute_result"
    }
   ],
   "source": [
    "final_output=pd.concat([data_verify,data_predicted],axis=1)\n",
    "final_output['Difference']=final_output['Test']-final_output['Prediction']\n",
    "final_output.head()\n"
   ]
  },
  {
   "cell_type": "code",
   "execution_count": 59,
   "metadata": {},
   "outputs": [],
   "source": [
    "torch.save(model,'HousePrice.pt')"
   ]
  },
  {
   "cell_type": "code",
   "execution_count": 60,
   "metadata": {},
   "outputs": [],
   "source": [
    "torch.save(model.state_dict(),'HouseWeights.pt')"
   ]
  },
  {
   "cell_type": "code",
   "execution_count": 65,
   "metadata": {},
   "outputs": [
    {
     "name": "stderr",
     "output_type": "stream",
     "text": [
      "C:\\Users\\pc\\AppData\\Local\\Temp\\ipykernel_17952\\4225596820.py:3: FutureWarning: You are using `torch.load` with `weights_only=False` (the current default value), which uses the default pickle module implicitly. It is possible to construct malicious pickle data which will execute arbitrary code during unpickling (See https://github.com/pytorch/pytorch/blob/main/SECURITY.md#untrusted-models for more details). In a future release, the default value for `weights_only` will be flipped to `True`. This limits the functions that could be executed during unpickling. Arbitrary objects will no longer be allowed to be loaded via this mode unless they are explicitly allowlisted by the user via `torch.serialization.add_safe_globals`. We recommend you start setting `weights_only=True` for any use case where you don't have full control of the loaded file. Please open an issue on GitHub for any issues related to this experimental feature.\n",
      "  model1.load_state_dict(torch.load('HouseWeights.pt'))\n"
     ]
    },
    {
     "data": {
      "text/plain": [
       "<All keys matched successfully>"
      ]
     },
     "execution_count": 65,
     "metadata": {},
     "output_type": "execute_result"
    }
   ],
   "source": [
    "embs_size=[(15, 8), (5, 3), (2, 1), (4, 2)]\n",
    "model1=FeedForwardNN(embs_size,6,1,[100,50],p=0.4)\n",
    "model1.load_state_dict(torch.load('HouseWeights.pt'))"
   ]
  },
  {
   "cell_type": "code",
   "execution_count": 66,
   "metadata": {},
   "outputs": [
    {
     "data": {
      "text/plain": [
       "FeedForwardNN(\n",
       "  (embeds): ModuleList(\n",
       "    (0): Embedding(15, 8)\n",
       "    (1): Embedding(5, 3)\n",
       "    (2): Embedding(2, 1)\n",
       "    (3): Embedding(4, 2)\n",
       "  )\n",
       "  (emb_drop): Dropout(p=0.4, inplace=False)\n",
       "  (bn_cont): BatchNorm1d(6, eps=1e-05, momentum=0.1, affine=True, track_running_stats=True)\n",
       "  (layers): Sequential(\n",
       "    (0): Linear(in_features=20, out_features=100, bias=True)\n",
       "    (1): ReLU(inplace=True)\n",
       "    (2): BatchNorm1d(100, eps=1e-05, momentum=0.1, affine=True, track_running_stats=True)\n",
       "    (3): Dropout(p=0.4, inplace=False)\n",
       "    (4): Linear(in_features=100, out_features=50, bias=True)\n",
       "    (5): ReLU(inplace=True)\n",
       "    (6): BatchNorm1d(50, eps=1e-05, momentum=0.1, affine=True, track_running_stats=True)\n",
       "    (7): Dropout(p=0.4, inplace=False)\n",
       "    (8): Linear(in_features=50, out_features=1, bias=True)\n",
       "  )\n",
       ")"
      ]
     },
     "execution_count": 66,
     "metadata": {},
     "output_type": "execute_result"
    }
   ],
   "source": [
    "model1.eval()"
   ]
  },
  {
   "cell_type": "code",
   "execution_count": null,
   "metadata": {},
   "outputs": [],
   "source": []
  }
 ],
 "metadata": {
  "kernelspec": {
   "display_name": ".venv",
   "language": "python",
   "name": "python3"
  },
  "language_info": {
   "codemirror_mode": {
    "name": "ipython",
    "version": 3
   },
   "file_extension": ".py",
   "mimetype": "text/x-python",
   "name": "python",
   "nbconvert_exporter": "python",
   "pygments_lexer": "ipython3",
   "version": "3.12.2"
  }
 },
 "nbformat": 4,
 "nbformat_minor": 2
}
